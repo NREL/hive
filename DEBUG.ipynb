{
 "cells": [
  {
   "cell_type": "code",
   "execution_count": 1,
   "metadata": {},
   "outputs": [],
   "source": [
    "import pandas as pd"
   ]
  },
  {
   "cell_type": "code",
   "execution_count": 2,
   "metadata": {},
   "outputs": [],
   "source": [
    "fleet_df = pd.read_csv('inputs/fleets/aus_fleet.csv')"
   ]
  },
  {
   "cell_type": "code",
   "execution_count": 5,
   "metadata": {},
   "outputs": [
    {
     "data": {
      "text/html": [
       "<div>\n",
       "<style scoped>\n",
       "    .dataframe tbody tr th:only-of-type {\n",
       "        vertical-align: middle;\n",
       "    }\n",
       "\n",
       "    .dataframe tbody tr th {\n",
       "        vertical-align: top;\n",
       "    }\n",
       "\n",
       "    .dataframe thead th {\n",
       "        text-align: right;\n",
       "    }\n",
       "</style>\n",
       "<table border=\"1\" class=\"dataframe\">\n",
       "  <thead>\n",
       "    <tr style=\"text-align: right;\">\n",
       "      <th></th>\n",
       "      <th>VEHICLE_NAME</th>\n",
       "      <th>NUM_VEHICLES</th>\n",
       "    </tr>\n",
       "  </thead>\n",
       "  <tbody>\n",
       "    <tr>\n",
       "      <th>0</th>\n",
       "      <td>car_4pax</td>\n",
       "      <td>40</td>\n",
       "    </tr>\n",
       "    <tr>\n",
       "      <th>1</th>\n",
       "      <td>car_2pax</td>\n",
       "      <td>20</td>\n",
       "    </tr>\n",
       "    <tr>\n",
       "      <th>2</th>\n",
       "      <td>van_7pax</td>\n",
       "      <td>50</td>\n",
       "    </tr>\n",
       "    <tr>\n",
       "      <th>3</th>\n",
       "      <td>van_10pax</td>\n",
       "      <td>10</td>\n",
       "    </tr>\n",
       "  </tbody>\n",
       "</table>\n",
       "</div>"
      ],
      "text/plain": [
       "  VEHICLE_NAME  NUM_VEHICLES\n",
       "0     car_4pax            40\n",
       "1     car_2pax            20\n",
       "2     van_7pax            50\n",
       "3    van_10pax            10"
      ]
     },
     "execution_count": 5,
     "metadata": {},
     "output_type": "execute_result"
    }
   ],
   "source": [
    "fleet_df.head()"
   ]
  },
  {
   "cell_type": "code",
   "execution_count": 28,
   "metadata": {},
   "outputs": [
    {
     "data": {
      "text/html": [
       "<div>\n",
       "<style scoped>\n",
       "    .dataframe tbody tr th:only-of-type {\n",
       "        vertical-align: middle;\n",
       "    }\n",
       "\n",
       "    .dataframe tbody tr th {\n",
       "        vertical-align: top;\n",
       "    }\n",
       "\n",
       "    .dataframe thead th {\n",
       "        text-align: right;\n",
       "    }\n",
       "</style>\n",
       "<table border=\"1\" class=\"dataframe\">\n",
       "  <thead>\n",
       "    <tr style=\"text-align: right;\">\n",
       "      <th></th>\n",
       "      <th>SCENARIO_NAME</th>\n",
       "      <th>VEH_1_NUM_VEHICLES</th>\n",
       "      <th>VEH_2_NUM_VEHICLES</th>\n",
       "      <th>MAX_DISPATCH_MILES</th>\n",
       "      <th>CHARGE_NET_FILE</th>\n",
       "      <th>LOWER_SOC_THRESH_DCFC</th>\n",
       "      <th>UPPER_SOC_THRESH_DCFC</th>\n",
       "      <th>MIN_ALLOWED_SOC</th>\n",
       "      <th>TRIP_REVENUE</th>\n",
       "    </tr>\n",
       "  </thead>\n",
       "  <tbody>\n",
       "    <tr>\n",
       "      <th>0</th>\n",
       "      <td>test1</td>\n",
       "      <td>50</td>\n",
       "      <td>100</td>\n",
       "      <td>5</td>\n",
       "      <td>aus_fuel_stations.csv</td>\n",
       "      <td>0.2</td>\n",
       "      <td>0.8</td>\n",
       "      <td>0.05</td>\n",
       "      <td>0</td>\n",
       "    </tr>\n",
       "    <tr>\n",
       "      <th>1</th>\n",
       "      <td>test2</td>\n",
       "      <td>100</td>\n",
       "      <td>50</td>\n",
       "      <td>5</td>\n",
       "      <td>aus_fuel_stations.csv</td>\n",
       "      <td>0.2</td>\n",
       "      <td>0.8</td>\n",
       "      <td>0.05</td>\n",
       "      <td>0</td>\n",
       "    </tr>\n",
       "  </tbody>\n",
       "</table>\n",
       "</div>"
      ],
      "text/plain": [
       "  SCENARIO_NAME  VEH_1_NUM_VEHICLES  VEH_2_NUM_VEHICLES  MAX_DISPATCH_MILES  \\\n",
       "0         test1                  50                 100                   5   \n",
       "1         test2                 100                  50                   5   \n",
       "\n",
       "         CHARGE_NET_FILE  LOWER_SOC_THRESH_DCFC  UPPER_SOC_THRESH_DCFC  \\\n",
       "0  aus_fuel_stations.csv                    0.2                    0.8   \n",
       "1  aus_fuel_stations.csv                    0.2                    0.8   \n",
       "\n",
       "   MIN_ALLOWED_SOC  TRIP_REVENUE  \n",
       "0             0.05             0  \n",
       "1             0.05             0  "
      ]
     },
     "execution_count": 28,
     "metadata": {},
     "output_type": "execute_result"
    }
   ],
   "source": [
    "sim_df = pd.read_csv('inputs/main.csv')\n",
    "sim_df.head()"
   ]
  },
  {
   "cell_type": "code",
   "execution_count": 22,
   "metadata": {},
   "outputs": [
    {
     "name": "stdout",
     "output_type": "stream",
     "text": [
      "VEH_1\n",
      "VEH_2\n",
      "VEH_1\n",
      "VEH_2\n"
     ]
    }
   ],
   "source": [
    "for i, row in sim_df.iterrows():\n",
    "    filename = '{}_inputs.h5'.format(row['SCENARIO_NAME'])\n",
    "    vehicle_ids = [{'name': c.replace(\"_NUM_VEHICLES\", \"\"), 'num': row[c]} for c in sim_df.columns if 'VEH' in c]\n",
    "    num_veh_types = len(vehicle_ids)\n",
    "    assert num_veh_types > 0, 'Must have at least one vehicle type to run simulation.'\n",
    "    row['NUM_VEHICLE_TYPES'] = str(num_veh_types)\n",
    "    num_vehicles = 0\n",
    "    for veh in vehicle_ids:\n",
    "        num_vehicles += int(veh['num'])\n",
    "        veh_df = pd.read_csv('inputs/vehicles/' + veh['name'] + '.csv', header=None).T\n",
    "        veh_df = veh_df.rename(columns=veh_df.iloc[0]).drop(0).reset_index(drop=True)\n",
    "        veh_df['NUM_VEHICLES'] = veh['num']\n",
    "        print(veh['name'])\n",
    "        veh_df.iloc[0].to_hdf(filename, key=veh['name'])\n",
    "    assert num_vehicles > 0, \"Must have at least one vehicle to run simulation.\"\n",
    "    row['TOTAL_NUM_VEHICLES'] = str(num_vehicles)\n",
    "    row.to_hdf(filename, key='main')"
   ]
  },
  {
   "cell_type": "code",
   "execution_count": 23,
   "metadata": {},
   "outputs": [],
   "source": [
    "veh_2 = pd.read_hdf('test2_inputs.h5', key=\"VEH_2\")"
   ]
  },
  {
   "cell_type": "code",
   "execution_count": 24,
   "metadata": {},
   "outputs": [
    {
     "data": {
      "text/plain": [
       "VEHICLE_NAME           van\n",
       "BATTERY_CAPACITY        80\n",
       "PASSENGERS               7\n",
       "EFFICIENCY             225\n",
       "CHARGE_ACCEPTANCE      150\n",
       "MAINTENANCE_COST     0.065\n",
       "ADDITIONAL_COSTS         0\n",
       "NUM_VEHICLES            50\n",
       "Name: 0, dtype: object"
      ]
     },
     "execution_count": 24,
     "metadata": {},
     "output_type": "execute_result"
    }
   ],
   "source": [
    "veh_2"
   ]
  },
  {
   "cell_type": "code",
   "execution_count": 17,
   "metadata": {},
   "outputs": [],
   "source": [
    "veh_types = [v.replace('_NUM_VEHICLES', '') for v in inputs.index if 'VEH_' in v]    "
   ]
  },
  {
   "cell_type": "code",
   "execution_count": 18,
   "metadata": {},
   "outputs": [
    {
     "data": {
      "text/plain": [
       "['VEH_1', 'VEH_2']"
      ]
     },
     "execution_count": 18,
     "metadata": {},
     "output_type": "execute_result"
    }
   ],
   "source": [
    "veh_types"
   ]
  },
  {
   "cell_type": "code",
   "execution_count": 29,
   "metadata": {},
   "outputs": [
    {
     "name": "stdout",
     "output_type": "stream",
     "text": [
      "Index(['SCENARIO_NAME', 'VEH_1_NUM_VEHICLES', 'VEH_2_NUM_VEHICLES',\n",
      "       'MAX_DISPATCH_MILES', 'CHARGE_NET_FILE', 'LOWER_SOC_THRESH_DCFC',\n",
      "       'UPPER_SOC_THRESH_DCFC', 'MIN_ALLOWED_SOC', 'TRIP_REVENUE'],\n",
      "      dtype='object')\n",
      "Index(['SCENARIO_NAME', 'VEH_1_NUM_VEHICLES', 'VEH_2_NUM_VEHICLES',\n",
      "       'MAX_DISPATCH_MILES', 'CHARGE_NET_FILE', 'LOWER_SOC_THRESH_DCFC',\n",
      "       'UPPER_SOC_THRESH_DCFC', 'MIN_ALLOWED_SOC', 'TRIP_REVENUE'],\n",
      "      dtype='object')\n"
     ]
    }
   ],
   "source": [
    "for i, row in sim_df.iterrows():\n",
    "    print(row.index)"
   ]
  },
  {
   "cell_type": "code",
   "execution_count": 2,
   "metadata": {},
   "outputs": [],
   "source": [
    "ENV_PARAMS = {\n",
    "    'MAX_DISPATCH_MILES': (0, 10000),\n",
    "    'MIN_ALLOWED_SOC': (0,100),\n",
    "}"
   ]
  },
  {
   "cell_type": "code",
   "execution_count": 3,
   "metadata": {},
   "outputs": [],
   "source": [
    "new_dict = {'MIN_ALLOWED_SOC': 10, \"FAIL\": 0}"
   ]
  },
  {
   "cell_type": "code",
   "execution_count": 9,
   "metadata": {},
   "outputs": [
    {
     "name": "stdout",
     "output_type": "stream",
     "text": [
      "True\n",
      "False\n"
     ]
    }
   ],
   "source": [
    "for key,val in new_dict.items():\n",
    "    print(key in ENV_PARAMS.keys())"
   ]
  },
  {
   "cell_type": "code",
   "execution_count": null,
   "metadata": {},
   "outputs": [],
   "source": []
  }
 ],
 "metadata": {
  "kernelspec": {
   "display_name": "Python 3",
   "language": "python",
   "name": "python3"
  },
  "language_info": {
   "codemirror_mode": {
    "name": "ipython",
    "version": 3
   },
   "file_extension": ".py",
   "mimetype": "text/x-python",
   "name": "python",
   "nbconvert_exporter": "python",
   "pygments_lexer": "ipython3",
   "version": "3.6.8"
  }
 },
 "nbformat": 4,
 "nbformat_minor": 2
}
