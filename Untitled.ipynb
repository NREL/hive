{
 "cells": [
  {
   "cell_type": "code",
   "execution_count": 1,
   "metadata": {},
   "outputs": [],
   "source": [
    "from hive.vehicle import Vehicle\n",
    "from hive.station import Hub\n",
    "\n",
    "import numpy as np"
   ]
  },
  {
   "cell_type": "code",
   "execution_count": 2,
   "metadata": {},
   "outputs": [],
   "source": [
    "env_params = {\"MIN_ALLOWED_SOC\": 95, \"MAX_DISPATCH_MILES\": 20}"
   ]
  },
  {
   "cell_type": "code",
   "execution_count": 3,
   "metadata": {},
   "outputs": [],
   "source": [
    "veh = Vehicle(\n",
    "    veh_id = 1,\n",
    "    name = \"test_name\",\n",
    "    type = \"test_type\",\n",
    "    battery_capacity = 100,\n",
    "    initial_soc = np.random.uniform(0.2, 1.0),\n",
    "    whmi_lookup = \"placeholder\",\n",
    "    charge_template = \"placeholder\",\n",
    "    logfile = \"placeholder.log\",\n",
    "    environment_params = env_params\n",
    "    )"
   ]
  },
  {
   "cell_type": "code",
   "execution_count": 4,
   "metadata": {},
   "outputs": [
    {
     "data": {
      "text/plain": [
       "{'trip_vmt': 0,\n",
       " 'dispatch_vmt': 0,\n",
       " 'total_vmt': 0,\n",
       " 'requests_filled': 0,\n",
       " 'passengers_delivered': 0,\n",
       " 'refuel_cnt': 0,\n",
       " 'refuel_s': 0,\n",
       " 'idle_s': 0,\n",
       " 'dispatch_s': 0,\n",
       " 'trip_s': 0}"
      ]
     },
     "execution_count": 4,
     "metadata": {},
     "output_type": "execute_result"
    }
   ],
   "source": [
    "veh._stats"
   ]
  },
  {
   "cell_type": "code",
   "execution_count": 2,
   "metadata": {},
   "outputs": [],
   "source": [
    "hub = Hub(1,2,3,4,5,6,7)"
   ]
  },
  {
   "cell_type": "code",
   "execution_count": 3,
   "metadata": {},
   "outputs": [
    {
     "data": {
      "text/plain": [
       "{'charge_cnt': 0, 'max_vehicles': 0}"
      ]
     },
     "execution_count": 3,
     "metadata": {},
     "output_type": "execute_result"
    }
   ],
   "source": [
    "hub._stats"
   ]
  },
  {
   "cell_type": "code",
   "execution_count": null,
   "metadata": {},
   "outputs": [],
   "source": []
  }
 ],
 "metadata": {
  "kernelspec": {
   "display_name": "Python 3",
   "language": "python",
   "name": "python3"
  },
  "language_info": {
   "codemirror_mode": {
    "name": "ipython",
    "version": 3
   },
   "file_extension": ".py",
   "mimetype": "text/x-python",
   "name": "python",
   "nbconvert_exporter": "python",
   "pygments_lexer": "ipython3",
   "version": "3.6.8"
  }
 },
 "nbformat": 4,
 "nbformat_minor": 2
}
