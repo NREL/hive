{
 "cells": [
  {
   "cell_type": "code",
   "execution_count": 14,
   "id": "bc101449-1fe9-4598-94f0-2c348612c4c8",
   "metadata": {},
   "outputs": [],
   "source": [
    "from abc import ABC, abstractmethod\n",
    "\n",
    "from typing import Type"
   ]
  },
  {
   "cell_type": "code",
   "execution_count": 4,
   "id": "f1a2a82e-8d92-4bfb-afc4-c2f20c8d3d97",
   "metadata": {},
   "outputs": [],
   "source": [
    "class Foo(ABC):\n",
    "    \n",
    "    @abstractmethod\n",
    "    def work(self):\n",
    "        pass"
   ]
  },
  {
   "cell_type": "code",
   "execution_count": 8,
   "id": "2fa036ea-553f-4cb3-b4d3-ed3b89ed3351",
   "metadata": {},
   "outputs": [],
   "source": [
    "class Bar(Foo):\n",
    "    def work(self):\n",
    "        return 1"
   ]
  },
  {
   "cell_type": "code",
   "execution_count": 9,
   "id": "9a91a565-64ca-4a72-b596-bd3fdfd64728",
   "metadata": {},
   "outputs": [],
   "source": [
    "b = Bar()"
   ]
  },
  {
   "cell_type": "code",
   "execution_count": 16,
   "id": "05c4352d-2fbb-4a28-90af-40bc8b7eec85",
   "metadata": {},
   "outputs": [],
   "source": [
    "t = Bar"
   ]
  },
  {
   "cell_type": "code",
   "execution_count": 17,
   "id": "a152a1f7-6747-4370-9d40-feffaaec2b23",
   "metadata": {},
   "outputs": [
    {
     "data": {
      "text/plain": [
       "True"
      ]
     },
     "execution_count": 17,
     "metadata": {},
     "output_type": "execute_result"
    }
   ],
   "source": [
    "isinstance(t, Type)"
   ]
  },
  {
   "cell_type": "code",
   "execution_count": null,
   "id": "ee0d66ee-5f60-453b-a2e9-6cd86cb5b4c7",
   "metadata": {},
   "outputs": [],
   "source": []
  }
 ],
 "metadata": {
  "kernelspec": {
   "display_name": "Python 3 (ipykernel)",
   "language": "python",
   "name": "python3"
  },
  "language_info": {
   "codemirror_mode": {
    "name": "ipython",
    "version": 3
   },
   "file_extension": ".py",
   "mimetype": "text/x-python",
   "name": "python",
   "nbconvert_exporter": "python",
   "pygments_lexer": "ipython3",
   "version": "3.9.7"
  }
 },
 "nbformat": 4,
 "nbformat_minor": 5
}
